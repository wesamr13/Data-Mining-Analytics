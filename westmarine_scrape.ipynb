{
 "cells": [
  {
   "cell_type": "code",
   "execution_count": 2,
   "id": "ade760c2-4ac9-40de-9231-1f3b8c09035e",
   "metadata": {},
   "outputs": [],
   "source": [
    "from bs4 import BeautifulSoup\n",
    "import requests\n",
    "import textwrap\n",
    "import pandas\n",
    "\n",
    "l=[]\n",
    "burl=\"https://www.westmarine.com/core/listing/cache/searchResults.jsp?sm=3&searchtype=homepage&Ntk=boatsEN&ftid=0&Ns=PBoat_sortByPriceAsc%7C0&enid=0&toYear=2018&hmid=0&type=%addesd=%dfeefewef=%fdsfsgr=boats6567=\n",
    "for p in range(0,210,100):\n",
    "    print(burl+str(p))\n",
    "    r=requests.get(base_url+str(p)).content\n",
    "    soup=BeautifulSoup(con,\"html.parser\").find_all(\"div\",{\"class\":\"amount\"})\n",
    "    for item in all:\n",
    "        s=[]\n",
    "        s[\"Sailboat\"]=textwrap.shorten(item.find(\"div\",{\"class\":\"year\"}).text,width=50)\n",
    "        if item.find(\"div\",{\"class\":\"sold-price\"}).text.replace(\"\\n\",\"\").replace(\"*\",\"\").replace(\" \",\"\"):\n",
    "        else:\n",
    "            d[\"Price\"]=item.find(\"div\",{\"class\":\"price\"}).text.replace(\"\\n\",\"\").replace(\"*\",\"\").replace(\" \",\"\")\n",
    "        d[\"size\"]=textwrap.shorten(item.find(\"div\",{\"class\":\"size\"}).text,width=50)\n",
    "        d[\"seller\"]=textwrap.shorten(item.find(\"div\",{\"class\":\"seller\"}).text,width=50)\n",
    "           d[\"loc\"]=textwrap.shorten(item.find(\"div\",{\"class\":\"locations\"}).text,width=50)\n",
    "        l.append(d)\n",
    "\n",
    "df=pandas.DataFrame(l)\n",
    "df.to_csv(\"westmarine_par_web.csv\")"
   ]
  },
  {
   "cell_type": "code",
   "execution_count": 3,
   "id": "a6c60216-87b3-41b1-8a82-4f11043e8e94",
   "metadata": {},
   "outputs": [
    {
     "name": "stdout",
     "output_type": "stream",
     "text": [
      "fhg\n"
     ]
    }
   ],
   "source": []
  },
  {
   "cell_type": "code",
   "execution_count": null,
   "id": "f1830ebd-bc05-401d-8013-0d8e1e3c20f3",
   "metadata": {},
   "outputs": [],
   "source": []
  }
 ],
 "metadata": {
  "kernelspec": {
   "display_name": "Python 3",
   "language": "python",
   "name": "python3"
  },
  "language_info": {
   "codemirror_mode": {
    "name": "ipython",
    "version": 3
   },
   "file_extension": ".py",
   "mimetype": "text/x-python",
   "name": "python",
   "nbconvert_exporter": "python",
   "pygments_lexer": "ipython3",
   "version": "3.8.8"
  }
 },
 "nbformat": 4,
 "nbformat_minor": 5
}
